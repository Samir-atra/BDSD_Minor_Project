{
  "cells": [
    {
      "cell_type": "markdown",
      "metadata": {
        "colab_type": "text",
        "id": "view-in-github"
      },
      "source": [
        "<a href=\"https://colab.research.google.com/github/Samir-atra/BDSD_Minor_Project/blob/main/MediaPipe_Stuff.ipynb\" target=\"_parent\"><img src=\"https://colab.research.google.com/assets/colab-badge.svg\" alt=\"Open In Colab\"/></a>"
      ]
    },
    {
      "cell_type": "code",
      "execution_count": 1,
      "metadata": {
        "colab": {
          "base_uri": "https://localhost:8080/"
        },
        "id": "VQbjSccqvaoD",
        "outputId": "c7d1fc21-bd3e-4fc9-9d98-0a23e0ff21ab"
      },
      "outputs": [
        {
          "name": "stderr",
          "output_type": "stream",
          "text": [
            "2024-04-22 01:23:11.469441: I tensorflow/core/util/port.cc:111] oneDNN custom operations are on. You may see slightly different numerical results due to floating-point round-off errors from different computation orders. To turn them off, set the environment variable `TF_ENABLE_ONEDNN_OPTS=0`.\n",
            "2024-04-22 01:23:11.493721: E tensorflow/compiler/xla/stream_executor/cuda/cuda_dnn.cc:9342] Unable to register cuDNN factory: Attempting to register factory for plugin cuDNN when one has already been registered\n",
            "2024-04-22 01:23:11.493757: E tensorflow/compiler/xla/stream_executor/cuda/cuda_fft.cc:609] Unable to register cuFFT factory: Attempting to register factory for plugin cuFFT when one has already been registered\n",
            "2024-04-22 01:23:11.493775: E tensorflow/compiler/xla/stream_executor/cuda/cuda_blas.cc:1518] Unable to register cuBLAS factory: Attempting to register factory for plugin cuBLAS when one has already been registered\n",
            "2024-04-22 01:23:11.498876: I tensorflow/core/platform/cpu_feature_guard.cc:182] This TensorFlow binary is optimized to use available CPU instructions in performance-critical operations.\n",
            "To enable the following instructions: AVX2 AVX_VNNI FMA, in other operations, rebuild TensorFlow with the appropriate compiler flags.\n"
          ]
        },
        {
          "name": "stdout",
          "output_type": "stream",
          "text": [
            "Using TensorFlow backend\n"
          ]
        }
      ],
      "source": [
        "# Download and install packages\n",
        "# !python -m pip install mediapipe\n",
        "# !wget -O face_landmarker_v2_with_blendshapes.task -q https://storage.googleapis.com/mediapipe-models/face_landmarker/face_landmarker/float16/1/face_landmarker.task\n",
        "# !wget -q -O image.png https://storage.googleapis.com/mediapipe-assets/business-person.png\n",
        "\n",
        "# Imports\n",
        "import mediapipe as mp\n",
        "from mediapipe.tasks import python\n",
        "from mediapipe.tasks.python import vision\n",
        "from mediapipe import solutions\n",
        "from mediapipe.framework.formats import landmark_pb2\n",
        "import numpy as np\n",
        "import matplotlib.pyplot as plt\n",
        "import cv2\n",
        "# from google.colab.patches import cv2_imshow\n",
        "import csv\n",
        "import pandas as pd\n",
        "import tensorflow as tf\n",
        "import keras_tuner\n",
        "import math\n",
        "import time"
      ]
    },
    {
      "cell_type": "code",
      "execution_count": 2,
      "metadata": {
        "id": "GzbR9n38yXoA"
      },
      "outputs": [],
      "source": [
        "# MediaPipe visualizations\n",
        "\n",
        "\n",
        "def draw_landmarks_on_image(rgb_image, detection_result):\n",
        "  face_landmarks_list = detection_result.face_landmarks\n",
        "  annotated_image = np.copy(rgb_image)\n",
        "\n",
        "  # Loop through the detected faces to visualize.\n",
        "  for idx in range(len(face_landmarks_list)):\n",
        "    face_landmarks = face_landmarks_list[idx]\n",
        "\n",
        "    # Draw the face landmarks.\n",
        "    face_landmarks_proto = landmark_pb2.NormalizedLandmarkList()\n",
        "    face_landmarks_proto.landmark.extend([\n",
        "      landmark_pb2.NormalizedLandmark(x=landmark.x, y=landmark.y, z=landmark.z) for landmark in face_landmarks\n",
        "    ])\n",
        "\n",
        "    solutions.drawing_utils.draw_landmarks(\n",
        "        image=annotated_image,\n",
        "        landmark_list=face_landmarks_proto,\n",
        "        connections=mp.solutions.face_mesh.FACEMESH_TESSELATION,\n",
        "        landmark_drawing_spec=None,\n",
        "        connection_drawing_spec=mp.solutions.drawing_styles\n",
        "        .get_default_face_mesh_tesselation_style())\n",
        "    solutions.drawing_utils.draw_landmarks(\n",
        "        image=annotated_image,\n",
        "        landmark_list=face_landmarks_proto,\n",
        "        connections=mp.solutions.face_mesh.FACEMESH_CONTOURS,\n",
        "        landmark_drawing_spec=None,\n",
        "        connection_drawing_spec=mp.solutions.drawing_styles\n",
        "        .get_default_face_mesh_contours_style())\n",
        "    solutions.drawing_utils.draw_landmarks(\n",
        "        image=annotated_image,\n",
        "        landmark_list=face_landmarks_proto,\n",
        "        connections=mp.solutions.face_mesh.FACEMESH_IRISES,\n",
        "          landmark_drawing_spec=None,\n",
        "          connection_drawing_spec=mp.solutions.drawing_styles\n",
        "          .get_default_face_mesh_iris_connections_style())\n",
        "\n",
        "  return annotated_image\n",
        "\n",
        "def plot_face_blendshapes_bar_graph(face_blendshapes):\n",
        "  # Extract the face blendshapes category names and scores.\n",
        "  face_blendshapes_names = [face_blendshapes_category.category_name for face_blendshapes_category in face_blendshapes]\n",
        "  face_blendshapes_scores = [face_blendshapes_category.score for face_blendshapes_category in face_blendshapes]\n",
        "  # The blendshapes are ordered in decreasing score value.\n",
        "  face_blendshapes_ranks = range(len(face_blendshapes_names))\n",
        "\n",
        "  fig, ax = plt.subplots(figsize=(12, 12))\n",
        "  bar = ax.barh(face_blendshapes_ranks, face_blendshapes_scores, label=[str(x) for x in face_blendshapes_ranks])\n",
        "  ax.set_yticks(face_blendshapes_ranks, face_blendshapes_names)\n",
        "  ax.invert_yaxis()\n",
        "\n",
        "  # Label each bar with values\n",
        "  for score, patch in zip(face_blendshapes_scores, bar.patches):\n",
        "    plt.text(patch.get_x() + patch.get_width(), patch.get_y(), f\"{score:.4f}\", va=\"top\")\n",
        "\n",
        "  ax.set_xlabel('Score')\n",
        "  ax.set_title(\"Face Blendshapes\")\n",
        "  plt.tight_layout()\n",
        "  plt.show()\n"
      ]
    },
    {
      "cell_type": "code",
      "execution_count": 3,
      "metadata": {},
      "outputs": [],
      "source": [
        "# a function to write to csv files\n",
        "def csv_writer(filename, fields, data):\n",
        "\n",
        "    csvfile = filename\n",
        "    fields = fields\n",
        "    with open(csvfile, mode=\"a\") as first:\n",
        "        csvwriter = csv.writer(first)\n",
        "        csvwriter.writerow(fields)\n",
        "        csvwriter.writerows(data)\n",
        "\n",
        "        return True"
      ]
    },
    {
      "cell_type": "code",
      "execution_count": 4,
      "metadata": {
        "id": "wehz7zYlzMjZ"
      },
      "outputs": [],
      "source": [
        "# download and upload images\n",
        "# download\n",
        "# img = cv2.imread(\"images.jpg\")\n",
        "# cv2_imshow(img)\n",
        "\n",
        "#upload\n",
        "# from google.colab import files\n",
        "# uploaded = files.upload()\n",
        "\n",
        "# for filename in uploaded:\n",
        "#   content = uploaded[filename]\n",
        "#   with open(filename, 'wb') as f:\n",
        "#     f.write(content)\n",
        "\n",
        "# if len(uploaded.keys()):\n",
        "#   IMAGE_FILE = next(iter(uploaded))\n",
        "#   print('Uploaded file:', IMAGE_FILE)"
      ]
    },
    {
      "cell_type": "code",
      "execution_count": 5,
      "metadata": {
        "colab": {
          "base_uri": "https://localhost:8080/",
          "height": 1000
        },
        "id": "QKppKp8rzg3u",
        "outputId": "de368a9b-3d41-40ad-8126-9a06378c03b0"
      },
      "outputs": [
        {
          "name": "stderr",
          "output_type": "stream",
          "text": [
            "libEGL warning: MESA-LOADER: failed to open iris: /usr/lib/dri/iris_dri.so: cannot open shared object file: No such file or directory (search paths /usr/lib/x86_64-linux-gnu/dri:\\$${ORIGIN}/dri:/usr/lib/dri, suffix _dri)\n",
            "\n",
            "libEGL warning: MESA-LOADER: failed to open iris: /usr/lib/dri/iris_dri.so: cannot open shared object file: No such file or directory (search paths /usr/lib/x86_64-linux-gnu/dri:\\$${ORIGIN}/dri:/usr/lib/dri, suffix _dri)\n",
            "\n",
            "libEGL warning: MESA-LOADER: failed to open swrast: /usr/lib/dri/swrast_dri.so: cannot open shared object file: No such file or directory (search paths /usr/lib/x86_64-linux-gnu/dri:\\$${ORIGIN}/dri:/usr/lib/dri, suffix _dri)\n",
            "\n",
            "WARNING: All log messages before absl::InitializeLog() is called are written to STDERR\n",
            "I0000 00:00:1713741793.221416   56751 task_runner.cc:85] GPU suport is not available: INTERNAL: ; RET_CHECK failure (mediapipe/gpu/gl_context_egl.cc:84) egl_initializedUnable to initialize EGL\n",
            "W0000 00:00:1713741793.221762   56751 face_landmarker_graph.cc:174] Sets FaceBlendshapesGraph acceleration to xnnpack by default.\n",
            "libEGL warning: MESA-LOADER: failed to open iris: /usr/lib/dri/iris_dri.so: cannot open shared object file: No such file or directory (search paths /usr/lib/x86_64-linux-gnu/dri:\\$${ORIGIN}/dri:/usr/lib/dri, suffix _dri)\n",
            "\n",
            "libEGL warning: MESA-LOADER: failed to open iris: /usr/lib/dri/iris_dri.so: cannot open shared object file: No such file or directory (search paths /usr/lib/x86_64-linux-gnu/dri:\\$${ORIGIN}/dri:/usr/lib/dri, suffix _dri)\n",
            "\n",
            "libEGL warning: MESA-LOADER: failed to open swrast: /usr/lib/dri/swrast_dri.so: cannot open shared object file: No such file or directory (search paths /usr/lib/x86_64-linux-gnu/dri:\\$${ORIGIN}/dri:/usr/lib/dri, suffix _dri)\n",
            "\n",
            "libEGL warning: MESA-LOADER: failed to open iris: /usr/lib/dri/iris_dri.so: cannot open shared object file: No such file or directory (search paths /usr/lib/x86_64-linux-gnu/dri:\\$${ORIGIN}/dri:/usr/lib/dri, suffix _dri)\n",
            "\n",
            "libEGL warning: MESA-LOADER: failed to open iris: /usr/lib/dri/iris_dri.so: cannot open shared object file: No such file or directory (search paths /usr/lib/x86_64-linux-gnu/dri:\\$${ORIGIN}/dri:/usr/lib/dri, suffix _dri)\n",
            "\n",
            "libEGL warning: MESA-LOADER: failed to open swrast: /usr/lib/dri/swrast_dri.so: cannot open shared object file: No such file or directory (search paths /usr/lib/x86_64-linux-gnu/dri:\\$${ORIGIN}/dri:/usr/lib/dri, suffix _dri)\n",
            "\n",
            "libEGL warning: MESA-LOADER: failed to open iris: /usr/lib/dri/iris_dri.so: cannot open shared object file: No such file or directory (search paths /usr/lib/x86_64-linux-gnu/dri:\\$${ORIGIN}/dri:/usr/lib/dri, suffix _dri)\n",
            "\n",
            "libEGL warning: MESA-LOADER: failed to open iris: /usr/lib/dri/iris_dri.so: cannot open shared object file: No such file or directory (search paths /usr/lib/x86_64-linux-gnu/dri:\\$${ORIGIN}/dri:/usr/lib/dri, suffix _dri)\n",
            "\n",
            "libEGL warning: MESA-LOADER: failed to open swrast: /usr/lib/dri/swrast_dri.so: cannot open shared object file: No such file or directory (search paths /usr/lib/x86_64-linux-gnu/dri:\\$${ORIGIN}/dri:/usr/lib/dri, suffix _dri)\n",
            "\n",
            "libEGL warning: MESA-LOADER: failed to open iris: /usr/lib/dri/iris_dri.so: cannot open shared object file: No such file or directory (search paths /usr/lib/x86_64-linux-gnu/dri:\\$${ORIGIN}/dri:/usr/lib/dri, suffix _dri)\n",
            "\n",
            "libEGL warning: MESA-LOADER: failed to open iris: /usr/lib/dri/iris_dri.so: cannot open shared object file: No such file or directory (search paths /usr/lib/x86_64-linux-gnu/dri:\\$${ORIGIN}/dri:/usr/lib/dri, suffix _dri)\n",
            "\n",
            "libEGL warning: MESA-LOADER: failed to open swrast: /usr/lib/dri/swrast_dri.so: cannot open shared object file: No such file or directory (search paths /usr/lib/x86_64-linux-gnu/dri:\\$${ORIGIN}/dri:/usr/lib/dri, suffix _dri)\n",
            "\n",
            "libEGL warning: MESA-LOADER: failed to open iris: /usr/lib/dri/iris_dri.so: cannot open shared object file: No such file or directory (search paths /usr/lib/x86_64-linux-gnu/dri:\\$${ORIGIN}/dri:/usr/lib/dri, suffix _dri)\n",
            "\n",
            "libEGL warning: MESA-LOADER: failed to open iris: /usr/lib/dri/iris_dri.so: cannot open shared object file: No such file or directory (search paths /usr/lib/x86_64-linux-gnu/dri:\\$${ORIGIN}/dri:/usr/lib/dri, suffix _dri)\n",
            "\n",
            "libEGL warning: MESA-LOADER: failed to open swrast: /usr/lib/dri/swrast_dri.so: cannot open shared object file: No such file or directory (search paths /usr/lib/x86_64-linux-gnu/dri:\\$${ORIGIN}/dri:/usr/lib/dri, suffix _dri)\n",
            "\n",
            "INFO: Created TensorFlow Lite XNNPACK delegate for CPU.\n"
          ]
        }
      ],
      "source": [
        "#inferencing and visualizing\n",
        "\n",
        "# STEP 2: Create an FaceLandmarker object.\n",
        "base_options = python.BaseOptions(model_asset_path='face_landmarker_v2_with_blendshapes.task')\n",
        "options = vision.FaceLandmarkerOptions(base_options=base_options,\n",
        "                                       output_face_blendshapes=True,\n",
        "                                       output_facial_transformation_matrixes=True,\n",
        "                                       num_faces=1)\n",
        "detector = vision.FaceLandmarker.create_from_options(options)\n",
        "\n",
        "# STEP 3: Load the input image.\n",
        "image = mp.Image.create_from_file(\"image.png\")\n",
        "\n",
        "# STEP 4: Detect face landmarks from the input image.\n",
        "detection_result = detector.detect(image)\n",
        "# print(detection_result.facial_transformation_matrixes)\n",
        "\n",
        "# STEP 5: Process the detection result. In this case, visualize it.\n",
        "annotated_image = draw_landmarks_on_image(image.numpy_view(), detection_result)\n",
        "# img = plt.imshow(annotated_image)\n",
        "# plt.show()\n",
        "# cv2_imshow(cv2.cvtColor(annotated_image, cv2.COLOR_RGB2BGR))"
      ]
    },
    {
      "cell_type": "code",
      "execution_count": 6,
      "metadata": {
        "colab": {
          "base_uri": "https://localhost:8080/",
          "height": 913
        },
        "id": "AeWx7TJ2nIfz",
        "outputId": "9edb1bfb-caf7-47ff-ce07-a22b969ba819"
      },
      "outputs": [],
      "source": [
        "# plot bar graphs\n",
        "\n",
        "# plot_face_blendshapes_bar_graph(detection_result.face_blendshapes[0])\n",
        "# print(detection_result.face_blendshapes[0])"
      ]
    },
    {
      "cell_type": "code",
      "execution_count": 7,
      "metadata": {
        "id": "P5W9V1SX2QKO"
      },
      "outputs": [],
      "source": [
        "# # Processing, cleaning and visualizing the dataset\n",
        "# dataset = []\n",
        "# Training_set = []\n",
        "# validation_set = []\n",
        "# test_set = []\n",
        "# categories_count = {\"0\":0, \"1\":0, \"2\":0, \"3\":0, \"4\":0, \"5\":0, \"6\":0}\n",
        "# skipped = {\"0\":0, \"1\":0, \"2\":0, \"3\":0, \"4\":0, \"5\":0, \"6\":0}\n",
        "\n",
        "# with open(\"fer2013.csv\", mode= \"r\") as data:\n",
        "#   csvFile = csv.reader(data)\n",
        "#   for lines in csvFile:\n",
        "#       if lines[0] == \"3\":\n",
        "#         lines[0] = \"0\"\n",
        "#         dataset.append(lines)\n",
        "#       elif lines[0] == \"4\":\n",
        "#         lines[0] = '1'\n",
        "#         dataset.append(lines)\n",
        "#       elif lines[0] == '6':\n",
        "#         lines[0] = '2'\n",
        "#         dataset.append(lines) \n",
        "        \n",
        "#   print(dataset[1:6])\n",
        "  # # iterate over the training dataset\n",
        "  # for i in range(len(Training_set)):\n",
        "    # print(categories_count[Training_set[i][0]])\n",
        "    # categories_count[Training_set[i][0]] = categories_count[Training_set[i][0]] + 1\n",
        "    # image = np.array(Training_set[i][1].split(' ')).reshape(48, 48, 1).astype(np.uint8)\n",
        "    # image = cv2.cvtColor(image, cv2.COLOR_GRAY2RGB)\n",
        "    # print(image.shape)\n",
        "    # rgb_frame = mp.Image(image_format=mp.ImageFormat.SRGB,data=image)\n",
        "    # detection_result = detector.detect(rgb_frame)\n",
        "    # print(\"emotion = \", Training_set[i][0])\n",
        "    # img = plt.imshow(image)\n",
        "    # plt.show()\n",
        "    # # Skip and delete the image if not understood by mediapipe\n",
        "    # if detection_result.face_blendshapes == []:\n",
        "    #   skipped[Training_set[i][0]] = skipped[Training_set[i][0]] + 1\n",
        "    # else:\n",
        "    #   img = plt.imshow(image)\n",
        "    #   plt.show()\n",
        "  #     continue\n",
        "\n",
        "  # print(\"This is categories count\", categories_count)\n",
        "  # print(\"This is skipped\", skipped)\n",
        "\n",
        "\n",
        "# plot_face_blendshapes_bar_graph(detection_result.face_blendshapes[0])\n",
        "# annotated_image = draw_landmarks_on_image(rgb_frame.numpy_view(), detection_result)\n",
        "# cv2_imshow(cv2.cvtColor(annotated_image, cv2.COLOR_RGB2BGR))\n",
        "\n"
      ]
    },
    {
      "cell_type": "code",
      "execution_count": 8,
      "metadata": {},
      "outputs": [],
      "source": [
        "# cleaning the dataset\n",
        "\n",
        "# training_set = []\n",
        "# validation_set = []\n",
        "# test_set = []\n",
        "\n",
        "# for i in dataset:\n",
        "#     if i[2] == 'Training':\n",
        "#         training_set.append(i)\n",
        "#     elif i[2] == 'PublicTest':\n",
        "#         validation_set.append(i)\n",
        "#     elif i[2] == 'PrivateTest':\n",
        "#         test_set.append(i)\n",
        "\n",
        "# training_set_hns = []\n",
        "# validation_set_hns = []\n",
        "# test_set_hns = []\n",
        "\n",
        "# for lines in training_set:\n",
        "#       image = np.array(lines[1].split(' ')).reshape(48, 48, 1).astype(np.uint8)\n",
        "#       image = cv2.cvtColor(image, cv2.COLOR_GRAY2RGB)\n",
        "#     #   plt.imshow(image)\n",
        "#     #   plt.show()\n",
        "#       frame = mp.Image(image_format=mp.ImageFormat.SRGB,data=image)\n",
        "#       detection_result = detector.detect(frame)\n",
        "#       if detection_result.face_blendshapes == []:\n",
        "#         continue\n",
        "#       else:\n",
        "#         training_set_hns.append(lines)\n",
        "\n",
        "# for liness in validation_set:\n",
        "#       imagee = np.array(liness[1].split(' ')).reshape(48, 48, 1).astype(np.uint8)\n",
        "#       imagee = cv2.cvtColor(imagee, cv2.COLOR_GRAY2RGB)\n",
        "#     #   plt.imshow(image)\n",
        "#     #   plt.show()\n",
        "#       framee = mp.Image(image_format=mp.ImageFormat.SRGB,data=imagee)\n",
        "#       detection_result = detector.detect(framee)\n",
        "#       if detection_result.face_blendshapes == []:\n",
        "#         continue\n",
        "#       else:\n",
        "#         validation_set_hns.append(liness)\n",
        "\n",
        "# for linesss in test_set:\n",
        "#       imageee = np.array(linesss[1].split(' ')).reshape(48, 48, 1).astype(np.uint8)\n",
        "#       imageee = cv2.cvtColor(imageee, cv2.COLOR_GRAY2RGB)\n",
        "#     #   plt.imshow(image)\n",
        "#     #   plt.show()\n",
        "#       frameee = mp.Image(image_format=mp.ImageFormat.SRGB,data=imageee)\n",
        "#       detection_result = detector.detect(frameee)\n",
        "#       if detection_result.face_blendshapes == []:\n",
        "#         continue\n",
        "#       else:\n",
        "#         test_set_hns.append(linesss)\n",
        "\n",
        "# fields = [\"emotion\", \"pixels\", \"Usage\"]\n",
        "# csv_writer(\"training_set_hns.csv\", fields, training_set_hns)\n",
        "# csv_writer(\"validation_set_hns.csv\", fields, validation_set_hns)\n",
        "# csv_writer(\"test_set_hns.csv\", fields, test_set_hns)\n"
      ]
    },
    {
      "cell_type": "code",
      "execution_count": 9,
      "metadata": {
        "colab": {
          "base_uri": "https://localhost:8080/",
          "height": 259
        },
        "id": "deiWIq0NLwog",
        "outputId": "8e8fc28d-4c13-4a78-93b2-68d03a1c56b8"
      },
      "outputs": [],
      "source": [
        "# Augmenting images\n",
        "\n",
        "\n",
        "# augmented_training_set = []\n",
        "# training_images = []\n",
        "# training_labels = []\n",
        "# print(len(Training_set))\n",
        "\n",
        "# for i in range(math.floor(len(training_set_hns))):\n",
        "#     image = np.array(training_set_hns[i][1].split(' ')).reshape(48, 48, 1).astype(np.uint8)\n",
        "#     image = cv2.cvtColor(image, cv2.COLOR_GRAY2RGB)\n",
        "#     training_images.append(image)\n",
        "#     training_labels.append(int(training_set_hns[i][0]))\n",
        "\n",
        "\n",
        "# # rescaling and augmenting images models\n",
        "# rescaling1 = tf.keras.Sequential([\n",
        "#   tf.keras.layers.Rescaling(1./255)\n",
        "# ])\n",
        "\n",
        "# rescaling2 = tf.keras.Sequential([\n",
        "#   tf.keras.layers.Rescaling(1.*255)\n",
        "# ])\n",
        "\n",
        "# augment = tf.keras.Sequential([\n",
        "#   tf.keras.layers.RandomFlip(\"horizontal\"),\n",
        "#   tf.keras.layers.RandomRotation(0.1)\n",
        "# ])\n",
        "\n",
        "# for ele in range(len(training_images)):\n",
        "# scale down the image and augment\n",
        "#   img = training_images[ele]\n",
        "#   label = training_labels[ele]\n",
        "#   image = rescaling1(img)\n",
        "#   aug_image = augment(image)\n",
        "# #   scale up the image cast to an integer and transform into a numpy array\n",
        "#   aug_image = rescaling2(aug_image)\n",
        "#   aug_image = tf.cast(aug_image, tf.uint8)\n",
        "#   aug_image = np.array(aug_image)\n",
        "#   flatten_image = aug_image.flatten()\n",
        "#   flat_aug_image = [flatten_image[i] for i in range(0,len(flatten_image),3)]\n",
        "#   # flattt = np.reshape(flat_aug_image,(48,48))\n",
        "#   # plt.imshow(flattt)\n",
        "#   # plt.show()\n",
        "#   frame = mp.Image(image_format=mp.ImageFormat.SRGB,data=aug_image)\n",
        "#   detection_result = detector.detect(frame)\n",
        "#   if detection_result.face_blendshapes == []:\n",
        "#     continue\n",
        "#   else:\n",
        "#     element = [training_labels[ele]]\n",
        "#     for i in flat_aug_image:\n",
        "#       element.append(i)\n",
        "#     augmented_training_set.append([element[0],str(element[1:]).replace(',',\"\").replace('[','').replace(']',''),'Training'])\n",
        "\n",
        "# csv_writer(\"training_set_hns.csv\", ['emotion','pixels'], augmented_training_set)\n",
        "\n",
        "# print(detection_result.face_blendshapes[0])\n",
        "# annotated_image = draw_landmarks_on_image(frame.numpy_view(), detection_result)\n",
        "# plt.imshow(annotated_image)\n",
        "# plt.show()\n",
        "\n"
      ]
    },
    {
      "cell_type": "code",
      "execution_count": 10,
      "metadata": {},
      "outputs": [],
      "source": [
        "# choosing relevant blendshapes\n",
        "# blendS_to_print = ['1', '2', '3', '4', '5', '9', '10', '11', '12', '13', '14', '15', '16', '17', '18', '19', '20', '25', '30', '31', '34', '35', '36', '37', '38', '40', '42', '44', '45', '46', '47', '48', '49', 'emotion']\n",
        "\n",
        "# blend_shapes = dict()\n",
        "# for i in range(0,52):\n",
        "#     blend_shapes[str(i)] = 0\n",
        "\n",
        "# print(blend_shapes)\n",
        "# sad = 0\n",
        "# happy = 0\n",
        "# counter = 0\n",
        "\n",
        "#   # find which blendshapes are most relevant to happiness and sadness\n",
        "# for i in range(len(training_set_hns)):\n",
        "#     image = np.array(training_set_hns[i][1].split(' ')).reshape(48, 48, 1).astype(np.uint8)\n",
        "#     image = cv2.cvtColor(image, cv2.COLOR_GRAY2RGB)\n",
        "#     frame = mp.Image(image_format=mp.ImageFormat.SRGB,data=image)\n",
        "#     detection_result = detector.detect(frame)\n",
        "#     if detection_result.face_blendshapes == []:\n",
        "#         continue\n",
        "#     else:\n",
        "#         counter += 1\n",
        "#     if counter %500 == 0:\n",
        "#         time.sleep(5)\n",
        "#     for i in detection_result.face_blendshapes[0]:\n",
        "#         if i.score > 0.4:\n",
        "#             blend_shapes[str(i.index)] = blend_shapes[str(i.index)] + 1\n",
        "# print(blend_shapes)\n",
        "\n",
        "# detect annotate and plot blendshapes for the image\n",
        "# frame = mp.Image(image_format=mp.ImageFormat.SRGB,data=aug_image)\n",
        "# detection_result = detector.detect(frame)\n",
        "# annotated_image = draw_landmarks_on_image(frame.numpy_view(), detection_result)\n",
        "# cv2_imshow(cv2.cvtColor(annotated_image, cv2.COLOR_RGB2BGR))\n",
        "# plot_face_blendshapes_bar_graph(detection_result.face_blendshapes[0])"
      ]
    },
    {
      "cell_type": "code",
      "execution_count": 11,
      "metadata": {
        "id": "nQHG7kvVRQI6"
      },
      "outputs": [],
      "source": [
        "# if-else classification\n",
        "\n",
        "# if detection_result.face_blendshapes[0][44].score > 0.5 and detection_result.face_blendshapes[0][45].score > 0.5 :\n",
        "#   print(\"Happy\")\n",
        "# elif detection_result.face_blendshapes[0][42].score > 0.5:\n",
        "#   print(\"Sad\")\n"
      ]
    },
    {
      "cell_type": "code",
      "execution_count": 12,
      "metadata": {},
      "outputs": [],
      "source": [
        "# creating blendshapes dataset\n",
        "\n",
        "# val_set = []\n",
        "# val_images = []\n",
        "# val_labels = []\n",
        "\n",
        "# blendS_to_print = ['1', '2', '3', '4', '5', '9', '10', '11', '12', '13', '14', '15', '16', '17', '18', '19', '20', '25', '30', '31', '34', '35', '36', '37', '38', '40', '42', '44', '45', '46', '47', '48', '49','999']\n",
        "# with open(\"validation_set_hns.csv\", mode= \"r\") as data:\n",
        "#   csvFile = csv.reader(data)\n",
        "#   next(csvFile)\n",
        "#   for lines in csvFile:\n",
        "#     val_set.append(lines)\n",
        "# #   print(test_set[0])\n",
        "#   for i in range(len(val_set)):\n",
        "#     # print(training_set[i][1])\n",
        "#     image = np.array(val_set[i][1].split(' ')).reshape(48, 48, 1).astype(np.uint8)\n",
        "#     image = cv2.cvtColor(image, cv2.COLOR_GRAY2RGB)\n",
        "#     val_images.append(image)\n",
        "#     val_labels.append(int(val_set[i][0]))\n",
        "\n",
        "# arr = np.zeros((len(val_images), 34))\n",
        "\n",
        "# print(len(val_images))\n",
        "# arr[0,:]= blendS_to_print\n",
        "# for ele in range(len(val_images)-1):\n",
        "#   img = val_images[ele]\n",
        "#   label = val_labels[ele]\n",
        "#   frame = mp.Image(image_format=mp.ImageFormat.SRGB,data=img)\n",
        "#   detection_result = detector.detect(frame)\n",
        "# #   print(detection_result.face_blendshapes[0])\n",
        "#   for category in detection_result.face_blendshapes[0]:\n",
        "#     if str(category.index) in blendS_to_print:\n",
        "#        arr[ele, blendS_to_print.index(f\"{category.index}\")] = category.score\n",
        "#        arr[ele, 33] = label\n",
        "#     else:\n",
        "#        continue\n",
        "    # print(arr)\n",
        "\n",
        "# np.savetxt(\"blends_validation_set.csv\", arr, delimiter = \",\")"
      ]
    },
    {
      "cell_type": "code",
      "execution_count": 18,
      "metadata": {},
      "outputs": [
        {
          "name": "stdout",
          "output_type": "stream",
          "text": [
            "WARNING:tensorflow:Layer lstm_2 will not use cuDNN kernels since it doesn't meet the criteria. It will use a generic GPU kernel as fallback when running on GPU.\n"
          ]
        },
        {
          "name": "stderr",
          "output_type": "stream",
          "text": [
            "WARNING:tensorflow:Layer lstm_2 will not use cuDNN kernels since it doesn't meet the criteria. It will use a generic GPU kernel as fallback when running on GPU.\n"
          ]
        },
        {
          "name": "stdout",
          "output_type": "stream",
          "text": [
            "WARNING:tensorflow:Layer lstm_3 will not use cuDNN kernels since it doesn't meet the criteria. It will use a generic GPU kernel as fallback when running on GPU.\n"
          ]
        },
        {
          "name": "stderr",
          "output_type": "stream",
          "text": [
            "WARNING:tensorflow:Layer lstm_3 will not use cuDNN kernels since it doesn't meet the criteria. It will use a generic GPU kernel as fallback when running on GPU.\n"
          ]
        },
        {
          "name": "stdout",
          "output_type": "stream",
          "text": [
            "Epoch 1/100\n",
            "942/942 [==============================] - 37s 38ms/step - loss: 0.7529 - categorical_accuracy: 0.6474 - f1_score: 0.5649 - val_loss: 0.7182 - val_categorical_accuracy: 0.6473 - val_f1_score: 0.5444\n",
            "Epoch 2/100\n",
            "200/942 [=====>........................] - ETA: 28s - loss: 0.6954 - categorical_accuracy: 0.6684 - f1_score: 0.6081"
          ]
        },
        {
          "ename": "KeyboardInterrupt",
          "evalue": "",
          "output_type": "error",
          "traceback": [
            "\u001b[0;31m---------------------------------------------------------------------------\u001b[0m",
            "\u001b[0;31mKeyboardInterrupt\u001b[0m                         Traceback (most recent call last)",
            "Cell \u001b[0;32mIn[18], line 84\u001b[0m\n\u001b[1;32m     55\u001b[0m model\u001b[38;5;241m.\u001b[39mcompile(loss\u001b[38;5;241m=\u001b[39mtf\u001b[38;5;241m.\u001b[39mkeras\u001b[38;5;241m.\u001b[39mlosses\u001b[38;5;241m.\u001b[39mCategoricalCrossentropy(),\n\u001b[1;32m     56\u001b[0m               optimizer\u001b[38;5;241m=\u001b[39m tf\u001b[38;5;241m.\u001b[39mkeras\u001b[38;5;241m.\u001b[39moptimizers\u001b[38;5;241m.\u001b[39mAdam(learning_rate \u001b[38;5;241m=\u001b[39m \u001b[38;5;241m0.00464489028556945\u001b[39m, clipnorm\u001b[38;5;241m=\u001b[39m\u001b[38;5;241m1\u001b[39m),\n\u001b[1;32m     57\u001b[0m               metrics \u001b[38;5;241m=\u001b[39m [tf\u001b[38;5;241m.\u001b[39mkeras\u001b[38;5;241m.\u001b[39mmetrics\u001b[38;5;241m.\u001b[39mCategoricalAccuracy(), tf\u001b[38;5;241m.\u001b[39mkeras\u001b[38;5;241m.\u001b[39mmetrics\u001b[38;5;241m.\u001b[39mF1Score()])\n\u001b[1;32m     59\u001b[0m   \u001b[38;5;66;03m# return model \u001b[39;00m\n\u001b[1;32m     60\u001b[0m \n\u001b[1;32m     61\u001b[0m \u001b[38;5;66;03m# build_model(keras_tuner.HyperParameters())\u001b[39;00m\n\u001b[0;32m   (...)\u001b[0m\n\u001b[1;32m     82\u001b[0m \n\u001b[1;32m     83\u001b[0m \u001b[38;5;66;03m# Fitting the RNN to the Training set\u001b[39;00m\n\u001b[0;32m---> 84\u001b[0m \u001b[43mmodel\u001b[49m\u001b[38;5;241;43m.\u001b[39;49m\u001b[43mfit\u001b[49m\u001b[43m(\u001b[49m\u001b[43mx\u001b[49m\u001b[38;5;241;43m=\u001b[39;49m\u001b[43mX_train\u001b[49m\u001b[43m,\u001b[49m\u001b[43m \u001b[49m\u001b[43my\u001b[49m\u001b[38;5;241;43m=\u001b[39;49m\u001b[43mY_train\u001b[49m\u001b[43m,\u001b[49m\u001b[43m \u001b[49m\u001b[43mvalidation_data\u001b[49m\u001b[43m \u001b[49m\u001b[38;5;241;43m=\u001b[39;49m\u001b[43m \u001b[49m\u001b[43m(\u001b[49m\u001b[43mX_val\u001b[49m\u001b[43m,\u001b[49m\u001b[43my_val\u001b[49m\u001b[43m)\u001b[49m\u001b[43m \u001b[49m\u001b[43m,\u001b[49m\u001b[43mepochs\u001b[49m\u001b[43m \u001b[49m\u001b[38;5;241;43m=\u001b[39;49m\u001b[43m \u001b[49m\u001b[38;5;241;43m100\u001b[39;49m\u001b[43m)\u001b[49m\n",
            "File \u001b[0;32m~/anaconda3/envs/tensorflow/lib/python3.9/site-packages/keras/src/utils/traceback_utils.py:65\u001b[0m, in \u001b[0;36mfilter_traceback.<locals>.error_handler\u001b[0;34m(*args, **kwargs)\u001b[0m\n\u001b[1;32m     63\u001b[0m filtered_tb \u001b[38;5;241m=\u001b[39m \u001b[38;5;28;01mNone\u001b[39;00m\n\u001b[1;32m     64\u001b[0m \u001b[38;5;28;01mtry\u001b[39;00m:\n\u001b[0;32m---> 65\u001b[0m     \u001b[38;5;28;01mreturn\u001b[39;00m \u001b[43mfn\u001b[49m\u001b[43m(\u001b[49m\u001b[38;5;241;43m*\u001b[39;49m\u001b[43margs\u001b[49m\u001b[43m,\u001b[49m\u001b[43m \u001b[49m\u001b[38;5;241;43m*\u001b[39;49m\u001b[38;5;241;43m*\u001b[39;49m\u001b[43mkwargs\u001b[49m\u001b[43m)\u001b[49m\n\u001b[1;32m     66\u001b[0m \u001b[38;5;28;01mexcept\u001b[39;00m \u001b[38;5;167;01mException\u001b[39;00m \u001b[38;5;28;01mas\u001b[39;00m e:\n\u001b[1;32m     67\u001b[0m     filtered_tb \u001b[38;5;241m=\u001b[39m _process_traceback_frames(e\u001b[38;5;241m.\u001b[39m__traceback__)\n",
            "File \u001b[0;32m~/anaconda3/envs/tensorflow/lib/python3.9/site-packages/keras/src/engine/training.py:1783\u001b[0m, in \u001b[0;36mModel.fit\u001b[0;34m(self, x, y, batch_size, epochs, verbose, callbacks, validation_split, validation_data, shuffle, class_weight, sample_weight, initial_epoch, steps_per_epoch, validation_steps, validation_batch_size, validation_freq, max_queue_size, workers, use_multiprocessing)\u001b[0m\n\u001b[1;32m   1775\u001b[0m \u001b[38;5;28;01mwith\u001b[39;00m tf\u001b[38;5;241m.\u001b[39mprofiler\u001b[38;5;241m.\u001b[39mexperimental\u001b[38;5;241m.\u001b[39mTrace(\n\u001b[1;32m   1776\u001b[0m     \u001b[38;5;124m\"\u001b[39m\u001b[38;5;124mtrain\u001b[39m\u001b[38;5;124m\"\u001b[39m,\n\u001b[1;32m   1777\u001b[0m     epoch_num\u001b[38;5;241m=\u001b[39mepoch,\n\u001b[0;32m   (...)\u001b[0m\n\u001b[1;32m   1780\u001b[0m     _r\u001b[38;5;241m=\u001b[39m\u001b[38;5;241m1\u001b[39m,\n\u001b[1;32m   1781\u001b[0m ):\n\u001b[1;32m   1782\u001b[0m     callbacks\u001b[38;5;241m.\u001b[39mon_train_batch_begin(step)\n\u001b[0;32m-> 1783\u001b[0m     tmp_logs \u001b[38;5;241m=\u001b[39m \u001b[38;5;28;43mself\u001b[39;49m\u001b[38;5;241;43m.\u001b[39;49m\u001b[43mtrain_function\u001b[49m\u001b[43m(\u001b[49m\u001b[43miterator\u001b[49m\u001b[43m)\u001b[49m\n\u001b[1;32m   1784\u001b[0m     \u001b[38;5;28;01mif\u001b[39;00m data_handler\u001b[38;5;241m.\u001b[39mshould_sync:\n\u001b[1;32m   1785\u001b[0m         context\u001b[38;5;241m.\u001b[39masync_wait()\n",
            "File \u001b[0;32m~/anaconda3/envs/tensorflow/lib/python3.9/site-packages/tensorflow/python/util/traceback_utils.py:150\u001b[0m, in \u001b[0;36mfilter_traceback.<locals>.error_handler\u001b[0;34m(*args, **kwargs)\u001b[0m\n\u001b[1;32m    148\u001b[0m filtered_tb \u001b[38;5;241m=\u001b[39m \u001b[38;5;28;01mNone\u001b[39;00m\n\u001b[1;32m    149\u001b[0m \u001b[38;5;28;01mtry\u001b[39;00m:\n\u001b[0;32m--> 150\u001b[0m   \u001b[38;5;28;01mreturn\u001b[39;00m \u001b[43mfn\u001b[49m\u001b[43m(\u001b[49m\u001b[38;5;241;43m*\u001b[39;49m\u001b[43margs\u001b[49m\u001b[43m,\u001b[49m\u001b[43m \u001b[49m\u001b[38;5;241;43m*\u001b[39;49m\u001b[38;5;241;43m*\u001b[39;49m\u001b[43mkwargs\u001b[49m\u001b[43m)\u001b[49m\n\u001b[1;32m    151\u001b[0m \u001b[38;5;28;01mexcept\u001b[39;00m \u001b[38;5;167;01mException\u001b[39;00m \u001b[38;5;28;01mas\u001b[39;00m e:\n\u001b[1;32m    152\u001b[0m   filtered_tb \u001b[38;5;241m=\u001b[39m _process_traceback_frames(e\u001b[38;5;241m.\u001b[39m__traceback__)\n",
            "File \u001b[0;32m~/anaconda3/envs/tensorflow/lib/python3.9/site-packages/tensorflow/python/eager/polymorphic_function/polymorphic_function.py:831\u001b[0m, in \u001b[0;36mFunction.__call__\u001b[0;34m(self, *args, **kwds)\u001b[0m\n\u001b[1;32m    828\u001b[0m compiler \u001b[38;5;241m=\u001b[39m \u001b[38;5;124m\"\u001b[39m\u001b[38;5;124mxla\u001b[39m\u001b[38;5;124m\"\u001b[39m \u001b[38;5;28;01mif\u001b[39;00m \u001b[38;5;28mself\u001b[39m\u001b[38;5;241m.\u001b[39m_jit_compile \u001b[38;5;28;01melse\u001b[39;00m \u001b[38;5;124m\"\u001b[39m\u001b[38;5;124mnonXla\u001b[39m\u001b[38;5;124m\"\u001b[39m\n\u001b[1;32m    830\u001b[0m \u001b[38;5;28;01mwith\u001b[39;00m OptionalXlaContext(\u001b[38;5;28mself\u001b[39m\u001b[38;5;241m.\u001b[39m_jit_compile):\n\u001b[0;32m--> 831\u001b[0m   result \u001b[38;5;241m=\u001b[39m \u001b[38;5;28;43mself\u001b[39;49m\u001b[38;5;241;43m.\u001b[39;49m\u001b[43m_call\u001b[49m\u001b[43m(\u001b[49m\u001b[38;5;241;43m*\u001b[39;49m\u001b[43margs\u001b[49m\u001b[43m,\u001b[49m\u001b[43m \u001b[49m\u001b[38;5;241;43m*\u001b[39;49m\u001b[38;5;241;43m*\u001b[39;49m\u001b[43mkwds\u001b[49m\u001b[43m)\u001b[49m\n\u001b[1;32m    833\u001b[0m new_tracing_count \u001b[38;5;241m=\u001b[39m \u001b[38;5;28mself\u001b[39m\u001b[38;5;241m.\u001b[39mexperimental_get_tracing_count()\n\u001b[1;32m    834\u001b[0m without_tracing \u001b[38;5;241m=\u001b[39m (tracing_count \u001b[38;5;241m==\u001b[39m new_tracing_count)\n",
            "File \u001b[0;32m~/anaconda3/envs/tensorflow/lib/python3.9/site-packages/tensorflow/python/eager/polymorphic_function/polymorphic_function.py:867\u001b[0m, in \u001b[0;36mFunction._call\u001b[0;34m(self, *args, **kwds)\u001b[0m\n\u001b[1;32m    864\u001b[0m   \u001b[38;5;28mself\u001b[39m\u001b[38;5;241m.\u001b[39m_lock\u001b[38;5;241m.\u001b[39mrelease()\n\u001b[1;32m    865\u001b[0m   \u001b[38;5;66;03m# In this case we have created variables on the first call, so we run the\u001b[39;00m\n\u001b[1;32m    866\u001b[0m   \u001b[38;5;66;03m# defunned version which is guaranteed to never create variables.\u001b[39;00m\n\u001b[0;32m--> 867\u001b[0m   \u001b[38;5;28;01mreturn\u001b[39;00m \u001b[43mtracing_compilation\u001b[49m\u001b[38;5;241;43m.\u001b[39;49m\u001b[43mcall_function\u001b[49m\u001b[43m(\u001b[49m\n\u001b[1;32m    868\u001b[0m \u001b[43m      \u001b[49m\u001b[43margs\u001b[49m\u001b[43m,\u001b[49m\u001b[43m \u001b[49m\u001b[43mkwds\u001b[49m\u001b[43m,\u001b[49m\u001b[43m \u001b[49m\u001b[38;5;28;43mself\u001b[39;49m\u001b[38;5;241;43m.\u001b[39;49m\u001b[43m_no_variable_creation_config\u001b[49m\n\u001b[1;32m    869\u001b[0m \u001b[43m  \u001b[49m\u001b[43m)\u001b[49m\n\u001b[1;32m    870\u001b[0m \u001b[38;5;28;01melif\u001b[39;00m \u001b[38;5;28mself\u001b[39m\u001b[38;5;241m.\u001b[39m_variable_creation_config \u001b[38;5;129;01mis\u001b[39;00m \u001b[38;5;129;01mnot\u001b[39;00m \u001b[38;5;28;01mNone\u001b[39;00m:\n\u001b[1;32m    871\u001b[0m   \u001b[38;5;66;03m# Release the lock early so that multiple threads can perform the call\u001b[39;00m\n\u001b[1;32m    872\u001b[0m   \u001b[38;5;66;03m# in parallel.\u001b[39;00m\n\u001b[1;32m    873\u001b[0m   \u001b[38;5;28mself\u001b[39m\u001b[38;5;241m.\u001b[39m_lock\u001b[38;5;241m.\u001b[39mrelease()\n",
            "File \u001b[0;32m~/anaconda3/envs/tensorflow/lib/python3.9/site-packages/tensorflow/python/eager/polymorphic_function/tracing_compilation.py:139\u001b[0m, in \u001b[0;36mcall_function\u001b[0;34m(args, kwargs, tracing_options)\u001b[0m\n\u001b[1;32m    137\u001b[0m bound_args \u001b[38;5;241m=\u001b[39m function\u001b[38;5;241m.\u001b[39mfunction_type\u001b[38;5;241m.\u001b[39mbind(\u001b[38;5;241m*\u001b[39margs, \u001b[38;5;241m*\u001b[39m\u001b[38;5;241m*\u001b[39mkwargs)\n\u001b[1;32m    138\u001b[0m flat_inputs \u001b[38;5;241m=\u001b[39m function\u001b[38;5;241m.\u001b[39mfunction_type\u001b[38;5;241m.\u001b[39munpack_inputs(bound_args)\n\u001b[0;32m--> 139\u001b[0m \u001b[38;5;28;01mreturn\u001b[39;00m \u001b[43mfunction\u001b[49m\u001b[38;5;241;43m.\u001b[39;49m\u001b[43m_call_flat\u001b[49m\u001b[43m(\u001b[49m\u001b[43m  \u001b[49m\u001b[38;5;66;43;03m# pylint: disable=protected-access\u001b[39;49;00m\n\u001b[1;32m    140\u001b[0m \u001b[43m    \u001b[49m\u001b[43mflat_inputs\u001b[49m\u001b[43m,\u001b[49m\u001b[43m \u001b[49m\u001b[43mcaptured_inputs\u001b[49m\u001b[38;5;241;43m=\u001b[39;49m\u001b[43mfunction\u001b[49m\u001b[38;5;241;43m.\u001b[39;49m\u001b[43mcaptured_inputs\u001b[49m\n\u001b[1;32m    141\u001b[0m \u001b[43m\u001b[49m\u001b[43m)\u001b[49m\n",
            "File \u001b[0;32m~/anaconda3/envs/tensorflow/lib/python3.9/site-packages/tensorflow/python/eager/polymorphic_function/concrete_function.py:1264\u001b[0m, in \u001b[0;36mConcreteFunction._call_flat\u001b[0;34m(self, tensor_inputs, captured_inputs)\u001b[0m\n\u001b[1;32m   1260\u001b[0m possible_gradient_type \u001b[38;5;241m=\u001b[39m gradients_util\u001b[38;5;241m.\u001b[39mPossibleTapeGradientTypes(args)\n\u001b[1;32m   1261\u001b[0m \u001b[38;5;28;01mif\u001b[39;00m (possible_gradient_type \u001b[38;5;241m==\u001b[39m gradients_util\u001b[38;5;241m.\u001b[39mPOSSIBLE_GRADIENT_TYPES_NONE\n\u001b[1;32m   1262\u001b[0m     \u001b[38;5;129;01mand\u001b[39;00m executing_eagerly):\n\u001b[1;32m   1263\u001b[0m   \u001b[38;5;66;03m# No tape is watching; skip to running the function.\u001b[39;00m\n\u001b[0;32m-> 1264\u001b[0m   \u001b[38;5;28;01mreturn\u001b[39;00m \u001b[38;5;28;43mself\u001b[39;49m\u001b[38;5;241;43m.\u001b[39;49m\u001b[43m_inference_function\u001b[49m\u001b[38;5;241;43m.\u001b[39;49m\u001b[43mflat_call\u001b[49m\u001b[43m(\u001b[49m\u001b[43margs\u001b[49m\u001b[43m)\u001b[49m\n\u001b[1;32m   1265\u001b[0m forward_backward \u001b[38;5;241m=\u001b[39m \u001b[38;5;28mself\u001b[39m\u001b[38;5;241m.\u001b[39m_select_forward_and_backward_functions(\n\u001b[1;32m   1266\u001b[0m     args,\n\u001b[1;32m   1267\u001b[0m     possible_gradient_type,\n\u001b[1;32m   1268\u001b[0m     executing_eagerly)\n\u001b[1;32m   1269\u001b[0m forward_function, args_with_tangents \u001b[38;5;241m=\u001b[39m forward_backward\u001b[38;5;241m.\u001b[39mforward()\n",
            "File \u001b[0;32m~/anaconda3/envs/tensorflow/lib/python3.9/site-packages/tensorflow/python/eager/polymorphic_function/atomic_function.py:217\u001b[0m, in \u001b[0;36mAtomicFunction.flat_call\u001b[0;34m(self, args)\u001b[0m\n\u001b[1;32m    215\u001b[0m \u001b[38;5;28;01mdef\u001b[39;00m \u001b[38;5;21mflat_call\u001b[39m(\u001b[38;5;28mself\u001b[39m, args: Sequence[core\u001b[38;5;241m.\u001b[39mTensor]) \u001b[38;5;241m-\u001b[39m\u001b[38;5;241m>\u001b[39m Any:\n\u001b[1;32m    216\u001b[0m \u001b[38;5;250m  \u001b[39m\u001b[38;5;124;03m\"\"\"Calls with tensor inputs and returns the structured output.\"\"\"\u001b[39;00m\n\u001b[0;32m--> 217\u001b[0m   flat_outputs \u001b[38;5;241m=\u001b[39m \u001b[38;5;28;43mself\u001b[39;49m\u001b[43m(\u001b[49m\u001b[38;5;241;43m*\u001b[39;49m\u001b[43margs\u001b[49m\u001b[43m)\u001b[49m\n\u001b[1;32m    218\u001b[0m   \u001b[38;5;28;01mreturn\u001b[39;00m \u001b[38;5;28mself\u001b[39m\u001b[38;5;241m.\u001b[39mfunction_type\u001b[38;5;241m.\u001b[39mpack_output(flat_outputs)\n",
            "File \u001b[0;32m~/anaconda3/envs/tensorflow/lib/python3.9/site-packages/tensorflow/python/eager/polymorphic_function/atomic_function.py:252\u001b[0m, in \u001b[0;36mAtomicFunction.__call__\u001b[0;34m(self, *args)\u001b[0m\n\u001b[1;32m    250\u001b[0m \u001b[38;5;28;01mwith\u001b[39;00m record\u001b[38;5;241m.\u001b[39mstop_recording():\n\u001b[1;32m    251\u001b[0m   \u001b[38;5;28;01mif\u001b[39;00m \u001b[38;5;28mself\u001b[39m\u001b[38;5;241m.\u001b[39m_bound_context\u001b[38;5;241m.\u001b[39mexecuting_eagerly():\n\u001b[0;32m--> 252\u001b[0m     outputs \u001b[38;5;241m=\u001b[39m \u001b[38;5;28;43mself\u001b[39;49m\u001b[38;5;241;43m.\u001b[39;49m\u001b[43m_bound_context\u001b[49m\u001b[38;5;241;43m.\u001b[39;49m\u001b[43mcall_function\u001b[49m\u001b[43m(\u001b[49m\n\u001b[1;32m    253\u001b[0m \u001b[43m        \u001b[49m\u001b[38;5;28;43mself\u001b[39;49m\u001b[38;5;241;43m.\u001b[39;49m\u001b[43mname\u001b[49m\u001b[43m,\u001b[49m\n\u001b[1;32m    254\u001b[0m \u001b[43m        \u001b[49m\u001b[38;5;28;43mlist\u001b[39;49m\u001b[43m(\u001b[49m\u001b[43margs\u001b[49m\u001b[43m)\u001b[49m\u001b[43m,\u001b[49m\n\u001b[1;32m    255\u001b[0m \u001b[43m        \u001b[49m\u001b[38;5;28;43mlen\u001b[39;49m\u001b[43m(\u001b[49m\u001b[38;5;28;43mself\u001b[39;49m\u001b[38;5;241;43m.\u001b[39;49m\u001b[43mfunction_type\u001b[49m\u001b[38;5;241;43m.\u001b[39;49m\u001b[43mflat_outputs\u001b[49m\u001b[43m)\u001b[49m\u001b[43m,\u001b[49m\n\u001b[1;32m    256\u001b[0m \u001b[43m    \u001b[49m\u001b[43m)\u001b[49m\n\u001b[1;32m    257\u001b[0m   \u001b[38;5;28;01melse\u001b[39;00m:\n\u001b[1;32m    258\u001b[0m     outputs \u001b[38;5;241m=\u001b[39m make_call_op_in_graph(\n\u001b[1;32m    259\u001b[0m         \u001b[38;5;28mself\u001b[39m,\n\u001b[1;32m    260\u001b[0m         \u001b[38;5;28mlist\u001b[39m(args),\n\u001b[1;32m    261\u001b[0m         \u001b[38;5;28mself\u001b[39m\u001b[38;5;241m.\u001b[39m_bound_context\u001b[38;5;241m.\u001b[39mfunction_call_options\u001b[38;5;241m.\u001b[39mas_attrs(),\n\u001b[1;32m    262\u001b[0m     )\n",
            "File \u001b[0;32m~/anaconda3/envs/tensorflow/lib/python3.9/site-packages/tensorflow/python/eager/context.py:1479\u001b[0m, in \u001b[0;36mContext.call_function\u001b[0;34m(self, name, tensor_inputs, num_outputs)\u001b[0m\n\u001b[1;32m   1477\u001b[0m cancellation_context \u001b[38;5;241m=\u001b[39m cancellation\u001b[38;5;241m.\u001b[39mcontext()\n\u001b[1;32m   1478\u001b[0m \u001b[38;5;28;01mif\u001b[39;00m cancellation_context \u001b[38;5;129;01mis\u001b[39;00m \u001b[38;5;28;01mNone\u001b[39;00m:\n\u001b[0;32m-> 1479\u001b[0m   outputs \u001b[38;5;241m=\u001b[39m \u001b[43mexecute\u001b[49m\u001b[38;5;241;43m.\u001b[39;49m\u001b[43mexecute\u001b[49m\u001b[43m(\u001b[49m\n\u001b[1;32m   1480\u001b[0m \u001b[43m      \u001b[49m\u001b[43mname\u001b[49m\u001b[38;5;241;43m.\u001b[39;49m\u001b[43mdecode\u001b[49m\u001b[43m(\u001b[49m\u001b[38;5;124;43m\"\u001b[39;49m\u001b[38;5;124;43mutf-8\u001b[39;49m\u001b[38;5;124;43m\"\u001b[39;49m\u001b[43m)\u001b[49m\u001b[43m,\u001b[49m\n\u001b[1;32m   1481\u001b[0m \u001b[43m      \u001b[49m\u001b[43mnum_outputs\u001b[49m\u001b[38;5;241;43m=\u001b[39;49m\u001b[43mnum_outputs\u001b[49m\u001b[43m,\u001b[49m\n\u001b[1;32m   1482\u001b[0m \u001b[43m      \u001b[49m\u001b[43minputs\u001b[49m\u001b[38;5;241;43m=\u001b[39;49m\u001b[43mtensor_inputs\u001b[49m\u001b[43m,\u001b[49m\n\u001b[1;32m   1483\u001b[0m \u001b[43m      \u001b[49m\u001b[43mattrs\u001b[49m\u001b[38;5;241;43m=\u001b[39;49m\u001b[43mattrs\u001b[49m\u001b[43m,\u001b[49m\n\u001b[1;32m   1484\u001b[0m \u001b[43m      \u001b[49m\u001b[43mctx\u001b[49m\u001b[38;5;241;43m=\u001b[39;49m\u001b[38;5;28;43mself\u001b[39;49m\u001b[43m,\u001b[49m\n\u001b[1;32m   1485\u001b[0m \u001b[43m  \u001b[49m\u001b[43m)\u001b[49m\n\u001b[1;32m   1486\u001b[0m \u001b[38;5;28;01melse\u001b[39;00m:\n\u001b[1;32m   1487\u001b[0m   outputs \u001b[38;5;241m=\u001b[39m execute\u001b[38;5;241m.\u001b[39mexecute_with_cancellation(\n\u001b[1;32m   1488\u001b[0m       name\u001b[38;5;241m.\u001b[39mdecode(\u001b[38;5;124m\"\u001b[39m\u001b[38;5;124mutf-8\u001b[39m\u001b[38;5;124m\"\u001b[39m),\n\u001b[1;32m   1489\u001b[0m       num_outputs\u001b[38;5;241m=\u001b[39mnum_outputs,\n\u001b[0;32m   (...)\u001b[0m\n\u001b[1;32m   1493\u001b[0m       cancellation_manager\u001b[38;5;241m=\u001b[39mcancellation_context,\n\u001b[1;32m   1494\u001b[0m   )\n",
            "File \u001b[0;32m~/anaconda3/envs/tensorflow/lib/python3.9/site-packages/tensorflow/python/eager/execute.py:60\u001b[0m, in \u001b[0;36mquick_execute\u001b[0;34m(op_name, num_outputs, inputs, attrs, ctx, name)\u001b[0m\n\u001b[1;32m     53\u001b[0m   \u001b[38;5;66;03m# Convert any objects of type core_types.Tensor to Tensor.\u001b[39;00m\n\u001b[1;32m     54\u001b[0m   inputs \u001b[38;5;241m=\u001b[39m [\n\u001b[1;32m     55\u001b[0m       tensor_conversion_registry\u001b[38;5;241m.\u001b[39mconvert(t)\n\u001b[1;32m     56\u001b[0m       \u001b[38;5;28;01mif\u001b[39;00m \u001b[38;5;28misinstance\u001b[39m(t, core_types\u001b[38;5;241m.\u001b[39mTensor)\n\u001b[1;32m     57\u001b[0m       \u001b[38;5;28;01melse\u001b[39;00m t\n\u001b[1;32m     58\u001b[0m       \u001b[38;5;28;01mfor\u001b[39;00m t \u001b[38;5;129;01min\u001b[39;00m inputs\n\u001b[1;32m     59\u001b[0m   ]\n\u001b[0;32m---> 60\u001b[0m   tensors \u001b[38;5;241m=\u001b[39m \u001b[43mpywrap_tfe\u001b[49m\u001b[38;5;241;43m.\u001b[39;49m\u001b[43mTFE_Py_Execute\u001b[49m\u001b[43m(\u001b[49m\u001b[43mctx\u001b[49m\u001b[38;5;241;43m.\u001b[39;49m\u001b[43m_handle\u001b[49m\u001b[43m,\u001b[49m\u001b[43m \u001b[49m\u001b[43mdevice_name\u001b[49m\u001b[43m,\u001b[49m\u001b[43m \u001b[49m\u001b[43mop_name\u001b[49m\u001b[43m,\u001b[49m\n\u001b[1;32m     61\u001b[0m \u001b[43m                                      \u001b[49m\u001b[43minputs\u001b[49m\u001b[43m,\u001b[49m\u001b[43m \u001b[49m\u001b[43mattrs\u001b[49m\u001b[43m,\u001b[49m\u001b[43m \u001b[49m\u001b[43mnum_outputs\u001b[49m\u001b[43m)\u001b[49m\n\u001b[1;32m     62\u001b[0m \u001b[38;5;28;01mexcept\u001b[39;00m core\u001b[38;5;241m.\u001b[39m_NotOkStatusException \u001b[38;5;28;01mas\u001b[39;00m e:\n\u001b[1;32m     63\u001b[0m   \u001b[38;5;28;01mif\u001b[39;00m name \u001b[38;5;129;01mis\u001b[39;00m \u001b[38;5;129;01mnot\u001b[39;00m \u001b[38;5;28;01mNone\u001b[39;00m:\n",
            "\u001b[0;31mKeyboardInterrupt\u001b[0m: "
          ]
        }
      ],
      "source": [
        "# LSTM model\n",
        "\n",
        "blend_set = []\n",
        "labels_set = []\n",
        "with open(\"blends_train_set.csv\", mode= \"r\") as data:\n",
        "  csvFile = csv.reader(data)\n",
        "  # next(csvFile)\n",
        "  for lines in csvFile:\n",
        "      blend_set.append(lines[0:33])\n",
        "      labels_set.append(lines[33])\n",
        "blends_set = np.array(blend_set, dtype=np.float64)\n",
        "labels_set = np.array(labels_set, dtype=np.float64)\n",
        "#Reshaping Array\n",
        "X_train = np.reshape(blends_set, (30143, 33,1))\n",
        "Y_train = np.reshape(labels_set, (30143,1)).astype('int')\n",
        "Y_train = tf.keras.utils.to_categorical(Y_train, num_classes=3)\n",
        "\n",
        "# load validation data\n",
        "val_blend_set = []\n",
        "val_labels_set = []\n",
        "with open(\"blends_validation_set.csv\", mode= \"r\") as val_data:\n",
        "  csvFile = csv.reader(val_data)\n",
        "  # next(csvFile)\n",
        "  for lines in csvFile:\n",
        "      val_blend_set.append(lines[0:33])\n",
        "      val_labels_set.append(lines[33])\n",
        "val_blend_set = np.array(val_blend_set, dtype=np.float64)\n",
        "val_labels_set = np.array(val_labels_set, dtype=np.float64)\n",
        "X_val = np.reshape(val_blend_set, (1948, 33,1))\n",
        "y_val = np.reshape(val_labels_set, (1948,1)).astype('int')\n",
        "y_val = tf.keras.utils.to_categorical(y_val, num_classes=3)\n",
        "\n",
        "# normalize data\n",
        "# norm = tf.keras.layers.Normalization()\n",
        "# norm.adapt(X_train)\n",
        "# X_train = norm(X_train)\n",
        "# X_train = np.array(X_train)\n",
        "\n",
        "# norm.adapt(X_val)\n",
        "# X_val = norm(X_val)\n",
        "# X_val = np.array(X_val)\n",
        "\n",
        "# def build_model(hp):\n",
        "\n",
        "# model structure\n",
        "model = tf.keras.Sequential([\n",
        "    tf.keras.layers.LSTM(units = 33, activation = 'relu', return_sequences= True),\n",
        "    tf.keras.layers.LSTM(units = 20, activation = 'relu', return_sequences= False),\n",
        "    tf.keras.layers.Dense(units = 3, activation = 'softmax'),\n",
        "])\n",
        "\n",
        "  # learning_rate = hp.Float(\"lr\", min_value=1e-6, max_value=1e-2, sampling=\"log\")\n",
        "\n",
        "# Compiling the RNN\n",
        "model.compile(loss=tf.keras.losses.CategoricalCrossentropy(),\n",
        "              optimizer= tf.keras.optimizers.Adam(learning_rate = 0.00464489028556945, clipnorm=1),\n",
        "              metrics = [tf.keras.metrics.CategoricalAccuracy(), tf.keras.metrics.F1Score()])\n",
        "\n",
        "  # return model \n",
        "\n",
        "# build_model(keras_tuner.HyperParameters())\n",
        "\n",
        "# tuner = keras_tuner.RandomSearch(\n",
        "#     hypermodel=build_model,\n",
        "#     max_trials=10,\n",
        "#     objective='val_accuracy',\n",
        "#     executions_per_trial=2,\n",
        "#     overwrite=True,\n",
        "#     directory=\"/home/samer/Desktop/Big data Small Data/BDSD/Minor_project/emotion_estimation/\",\n",
        "#     project_name=\"Emotion_estimation_tuning\",\n",
        "# )\n",
        "\n",
        "# tuner.search_space_summary()\n",
        "\n",
        "# tuner.search(x=X_train, y=Y_train, validation_data = (X_val,y_val), epochs=6)\n",
        "\n",
        "# tuner.results_summary()\n",
        "\n",
        "\n",
        "\n",
        "# EStop = tf.keras.callbacks.EarlyStopping(monitor='val_loss', min_delta=0.001,patience=10, mode='auto',restore_best_weights=True)\n",
        "\n",
        "# Fitting the RNN to the Training set\n",
        "model.fit(x=X_train, y=Y_train, validation_data = (X_val,y_val) ,epochs = 100)\n"
      ]
    },
    {
      "cell_type": "code",
      "execution_count": 17,
      "metadata": {},
      "outputs": [
        {
          "name": "stdout",
          "output_type": "stream",
          "text": [
            "60/60 [==============================] - 0s 8ms/step - loss: 1.7637 - categorical_accuracy: 0.2585 - f1_score: 0.1369\n",
            "INFO:tensorflow:Unsupported signature for serialization: ((TensorSpec(shape=(1, 132), dtype=tf.float32, name='gradient'), <tensorflow.python.framework.func_graph.UnknownArgument object at 0x7f677bfcf550>, 140083080768128), {}).\n"
          ]
        },
        {
          "name": "stderr",
          "output_type": "stream",
          "text": [
            "INFO:tensorflow:Unsupported signature for serialization: ((TensorSpec(shape=(1, 132), dtype=tf.float32, name='gradient'), <tensorflow.python.framework.func_graph.UnknownArgument object at 0x7f677bfcf550>, 140083080768128), {}).\n"
          ]
        },
        {
          "name": "stdout",
          "output_type": "stream",
          "text": [
            "INFO:tensorflow:Unsupported signature for serialization: ((TensorSpec(shape=(33, 132), dtype=tf.float32, name='gradient'), <tensorflow.python.framework.func_graph.UnknownArgument object at 0x7f677bf80220>, 140082911148144), {}).\n"
          ]
        },
        {
          "name": "stderr",
          "output_type": "stream",
          "text": [
            "INFO:tensorflow:Unsupported signature for serialization: ((TensorSpec(shape=(33, 132), dtype=tf.float32, name='gradient'), <tensorflow.python.framework.func_graph.UnknownArgument object at 0x7f677bf80220>, 140082911148144), {}).\n"
          ]
        },
        {
          "name": "stdout",
          "output_type": "stream",
          "text": [
            "INFO:tensorflow:Unsupported signature for serialization: ((TensorSpec(shape=(132,), dtype=tf.float32, name='gradient'), <tensorflow.python.framework.func_graph.UnknownArgument object at 0x7f677bfa4c10>, 140083080788928), {}).\n"
          ]
        },
        {
          "name": "stderr",
          "output_type": "stream",
          "text": [
            "INFO:tensorflow:Unsupported signature for serialization: ((TensorSpec(shape=(132,), dtype=tf.float32, name='gradient'), <tensorflow.python.framework.func_graph.UnknownArgument object at 0x7f677bfa4c10>, 140083080788928), {}).\n"
          ]
        },
        {
          "name": "stdout",
          "output_type": "stream",
          "text": [
            "INFO:tensorflow:Unsupported signature for serialization: ((TensorSpec(shape=(33, 80), dtype=tf.float32, name='gradient'), <tensorflow.python.framework.func_graph.UnknownArgument object at 0x7f677bf97cd0>, 140083074714720), {}).\n"
          ]
        },
        {
          "name": "stderr",
          "output_type": "stream",
          "text": [
            "INFO:tensorflow:Unsupported signature for serialization: ((TensorSpec(shape=(33, 80), dtype=tf.float32, name='gradient'), <tensorflow.python.framework.func_graph.UnknownArgument object at 0x7f677bf97cd0>, 140083074714720), {}).\n"
          ]
        },
        {
          "name": "stdout",
          "output_type": "stream",
          "text": [
            "INFO:tensorflow:Unsupported signature for serialization: ((TensorSpec(shape=(20, 80), dtype=tf.float32, name='gradient'), <tensorflow.python.framework.func_graph.UnknownArgument object at 0x7f677bfcf820>, 140082911005360), {}).\n"
          ]
        },
        {
          "name": "stderr",
          "output_type": "stream",
          "text": [
            "INFO:tensorflow:Unsupported signature for serialization: ((TensorSpec(shape=(20, 80), dtype=tf.float32, name='gradient'), <tensorflow.python.framework.func_graph.UnknownArgument object at 0x7f677bfcf820>, 140082911005360), {}).\n"
          ]
        },
        {
          "name": "stdout",
          "output_type": "stream",
          "text": [
            "INFO:tensorflow:Unsupported signature for serialization: ((TensorSpec(shape=(80,), dtype=tf.float32, name='gradient'), <tensorflow.python.framework.func_graph.UnknownArgument object at 0x7f677bfb8d90>, 140083074731424), {}).\n"
          ]
        },
        {
          "name": "stderr",
          "output_type": "stream",
          "text": [
            "INFO:tensorflow:Unsupported signature for serialization: ((TensorSpec(shape=(80,), dtype=tf.float32, name='gradient'), <tensorflow.python.framework.func_graph.UnknownArgument object at 0x7f677bfb8d90>, 140083074731424), {}).\n"
          ]
        },
        {
          "name": "stdout",
          "output_type": "stream",
          "text": [
            "INFO:tensorflow:Unsupported signature for serialization: ((TensorSpec(shape=(20, 3), dtype=tf.float32, name='gradient'), <tensorflow.python.framework.func_graph.UnknownArgument object at 0x7f677bf47d90>, 140083073833440), {}).\n"
          ]
        },
        {
          "name": "stderr",
          "output_type": "stream",
          "text": [
            "INFO:tensorflow:Unsupported signature for serialization: ((TensorSpec(shape=(20, 3), dtype=tf.float32, name='gradient'), <tensorflow.python.framework.func_graph.UnknownArgument object at 0x7f677bf47d90>, 140083073833440), {}).\n"
          ]
        },
        {
          "name": "stdout",
          "output_type": "stream",
          "text": [
            "INFO:tensorflow:Unsupported signature for serialization: ((TensorSpec(shape=(3,), dtype=tf.float32, name='gradient'), <tensorflow.python.framework.func_graph.UnknownArgument object at 0x7f677bf55df0>, 140082910697712), {}).\n"
          ]
        },
        {
          "name": "stderr",
          "output_type": "stream",
          "text": [
            "INFO:tensorflow:Unsupported signature for serialization: ((TensorSpec(shape=(3,), dtype=tf.float32, name='gradient'), <tensorflow.python.framework.func_graph.UnknownArgument object at 0x7f677bf55df0>, 140082910697712), {}).\n"
          ]
        },
        {
          "name": "stdout",
          "output_type": "stream",
          "text": [
            "INFO:tensorflow:Unsupported signature for serialization: ((TensorSpec(shape=(1, 132), dtype=tf.float32, name='gradient'), <tensorflow.python.framework.func_graph.UnknownArgument object at 0x7f677bfcf550>, 140083080768128), {}).\n"
          ]
        },
        {
          "name": "stderr",
          "output_type": "stream",
          "text": [
            "INFO:tensorflow:Unsupported signature for serialization: ((TensorSpec(shape=(1, 132), dtype=tf.float32, name='gradient'), <tensorflow.python.framework.func_graph.UnknownArgument object at 0x7f677bfcf550>, 140083080768128), {}).\n"
          ]
        },
        {
          "name": "stdout",
          "output_type": "stream",
          "text": [
            "INFO:tensorflow:Unsupported signature for serialization: ((TensorSpec(shape=(33, 132), dtype=tf.float32, name='gradient'), <tensorflow.python.framework.func_graph.UnknownArgument object at 0x7f677bf80220>, 140082911148144), {}).\n"
          ]
        },
        {
          "name": "stderr",
          "output_type": "stream",
          "text": [
            "INFO:tensorflow:Unsupported signature for serialization: ((TensorSpec(shape=(33, 132), dtype=tf.float32, name='gradient'), <tensorflow.python.framework.func_graph.UnknownArgument object at 0x7f677bf80220>, 140082911148144), {}).\n"
          ]
        },
        {
          "name": "stdout",
          "output_type": "stream",
          "text": [
            "INFO:tensorflow:Unsupported signature for serialization: ((TensorSpec(shape=(132,), dtype=tf.float32, name='gradient'), <tensorflow.python.framework.func_graph.UnknownArgument object at 0x7f677bfa4c10>, 140083080788928), {}).\n"
          ]
        },
        {
          "name": "stderr",
          "output_type": "stream",
          "text": [
            "INFO:tensorflow:Unsupported signature for serialization: ((TensorSpec(shape=(132,), dtype=tf.float32, name='gradient'), <tensorflow.python.framework.func_graph.UnknownArgument object at 0x7f677bfa4c10>, 140083080788928), {}).\n"
          ]
        },
        {
          "name": "stdout",
          "output_type": "stream",
          "text": [
            "INFO:tensorflow:Unsupported signature for serialization: ((TensorSpec(shape=(33, 80), dtype=tf.float32, name='gradient'), <tensorflow.python.framework.func_graph.UnknownArgument object at 0x7f677bf97cd0>, 140083074714720), {}).\n"
          ]
        },
        {
          "name": "stderr",
          "output_type": "stream",
          "text": [
            "INFO:tensorflow:Unsupported signature for serialization: ((TensorSpec(shape=(33, 80), dtype=tf.float32, name='gradient'), <tensorflow.python.framework.func_graph.UnknownArgument object at 0x7f677bf97cd0>, 140083074714720), {}).\n"
          ]
        },
        {
          "name": "stdout",
          "output_type": "stream",
          "text": [
            "INFO:tensorflow:Unsupported signature for serialization: ((TensorSpec(shape=(20, 80), dtype=tf.float32, name='gradient'), <tensorflow.python.framework.func_graph.UnknownArgument object at 0x7f677bfcf820>, 140082911005360), {}).\n"
          ]
        },
        {
          "name": "stderr",
          "output_type": "stream",
          "text": [
            "INFO:tensorflow:Unsupported signature for serialization: ((TensorSpec(shape=(20, 80), dtype=tf.float32, name='gradient'), <tensorflow.python.framework.func_graph.UnknownArgument object at 0x7f677bfcf820>, 140082911005360), {}).\n"
          ]
        },
        {
          "name": "stdout",
          "output_type": "stream",
          "text": [
            "INFO:tensorflow:Unsupported signature for serialization: ((TensorSpec(shape=(80,), dtype=tf.float32, name='gradient'), <tensorflow.python.framework.func_graph.UnknownArgument object at 0x7f677bfb8d90>, 140083074731424), {}).\n"
          ]
        },
        {
          "name": "stderr",
          "output_type": "stream",
          "text": [
            "INFO:tensorflow:Unsupported signature for serialization: ((TensorSpec(shape=(80,), dtype=tf.float32, name='gradient'), <tensorflow.python.framework.func_graph.UnknownArgument object at 0x7f677bfb8d90>, 140083074731424), {}).\n"
          ]
        },
        {
          "name": "stdout",
          "output_type": "stream",
          "text": [
            "INFO:tensorflow:Unsupported signature for serialization: ((TensorSpec(shape=(20, 3), dtype=tf.float32, name='gradient'), <tensorflow.python.framework.func_graph.UnknownArgument object at 0x7f677bf47d90>, 140083073833440), {}).\n"
          ]
        },
        {
          "name": "stderr",
          "output_type": "stream",
          "text": [
            "INFO:tensorflow:Unsupported signature for serialization: ((TensorSpec(shape=(20, 3), dtype=tf.float32, name='gradient'), <tensorflow.python.framework.func_graph.UnknownArgument object at 0x7f677bf47d90>, 140083073833440), {}).\n"
          ]
        },
        {
          "name": "stdout",
          "output_type": "stream",
          "text": [
            "INFO:tensorflow:Unsupported signature for serialization: ((TensorSpec(shape=(3,), dtype=tf.float32, name='gradient'), <tensorflow.python.framework.func_graph.UnknownArgument object at 0x7f677bf55df0>, 140082910697712), {}).\n"
          ]
        },
        {
          "name": "stderr",
          "output_type": "stream",
          "text": [
            "INFO:tensorflow:Unsupported signature for serialization: ((TensorSpec(shape=(3,), dtype=tf.float32, name='gradient'), <tensorflow.python.framework.func_graph.UnknownArgument object at 0x7f677bf55df0>, 140082910697712), {}).\n"
          ]
        },
        {
          "name": "stdout",
          "output_type": "stream",
          "text": [
            "INFO:tensorflow:Assets written to: LSTM_model_70%_train_acc/assets\n"
          ]
        },
        {
          "name": "stderr",
          "output_type": "stream",
          "text": [
            "INFO:tensorflow:Assets written to: LSTM_model_70%_train_acc/assets\n"
          ]
        }
      ],
      "source": [
        "# predict\n",
        "\n",
        "test_blend_set = []\n",
        "test_labels_set = []\n",
        "with open(\"blends_test_set.csv\", mode= \"r\") as test_data:\n",
        "  csvFile = csv.reader(test_data)\n",
        "  # next(csvFile)\n",
        "  for lines in csvFile:\n",
        "      test_blend_set.append(lines[0:33])\n",
        "      test_labels_set.append(lines[33])\n",
        "test_blend_set = np.array(test_blend_set, dtype=np.float64)\n",
        "test_labels_set = np.array(test_labels_set, dtype=np.float64).astype('int')\n",
        "test_labels_set = tf.keras.utils.to_categorical(test_labels_set, num_classes=3)\n",
        "X_test = np.reshape(test_blend_set, (1915, 33,1))\n",
        "model.evaluate(X_test,test_labels_set)\n",
        "\n",
        "\n",
        "# model.save('LSTM_model_70%_train_acc')"
      ]
    }
  ],
  "metadata": {
    "colab": {
      "authorship_tag": "ABX9TyNUX/JCDJTXmt8IxZd2p+PS",
      "include_colab_link": true,
      "provenance": []
    },
    "kernelspec": {
      "display_name": "Python 3",
      "name": "python3"
    },
    "language_info": {
      "codemirror_mode": {
        "name": "ipython",
        "version": 3
      },
      "file_extension": ".py",
      "mimetype": "text/x-python",
      "name": "python",
      "nbconvert_exporter": "python",
      "pygments_lexer": "ipython3",
      "version": "3.9.18"
    }
  },
  "nbformat": 4,
  "nbformat_minor": 0
}
